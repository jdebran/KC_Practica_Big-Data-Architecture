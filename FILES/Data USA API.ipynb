{
 "cells": [
  {
   "cell_type": "code",
   "execution_count": 1,
   "metadata": {
    "collapsed": true
   },
   "outputs": [],
   "source": [
    "import urllib3\n",
    "urllib3.disable_warnings()\n",
    "http = urllib3.PoolManager()\n",
    "url = \"https://datausa.io/about/attributes/geo/state/1/\"\n",
    "response = http.request('GET', url)"
   ]
  },
  {
   "cell_type": "code",
   "execution_count": 2,
   "metadata": {
    "collapsed": true
   },
   "outputs": [],
   "source": [
    "from bs4 import BeautifulSoup\n",
    "soup = BeautifulSoup(response.data, 'html.parser')"
   ]
  },
  {
   "cell_type": "code",
   "execution_count": 3,
   "metadata": {
    "collapsed": true
   },
   "outputs": [],
   "source": [
    "table=soup.find('table', class_='geo')"
   ]
  },
  {
   "cell_type": "code",
   "execution_count": 4,
   "metadata": {
    "collapsed": true
   },
   "outputs": [],
   "source": [
    "IDs=[]\n",
    "Names=[]\n",
    "for row in table.findAll(\"tr\"):\n",
    "    cells = row.findAll(\"td\")\n",
    "    if len(cells)==2:\n",
    "        IDs.append(cells[0].find(text=True))\n",
    "        Names.append(cells[1].find(text=True))"
   ]
  },
  {
   "cell_type": "code",
   "execution_count": 5,
   "metadata": {
    "collapsed": true
   },
   "outputs": [],
   "source": [
    "from pyhive import hive\n",
    "conn = hive.Connection(host='sandbox.hortonworks.com', port=10000)\n",
    "cursor = conn.cursor()"
   ]
  },
  {
   "cell_type": "code",
   "execution_count": 32,
   "metadata": {},
   "outputs": [],
   "source": [
    "cursor.execute('use kcbda_raw')\n",
    "cursor.execute('CREATE EXTERNAL TABLE DATAUSA_STATE (ID_STATE string, DE_STATE string) ROW FORMAT DELIMITED FIELDS TERMINATED BY \",\" STORED AS TEXTFILE LOCATION \"/kcbda/RAW/DATAUSA_STATE\"')"
   ]
  },
  {
   "cell_type": "code",
   "execution_count": 37,
   "metadata": {},
   "outputs": [],
   "source": [
    "query = \"INSERT INTO TABLE DATAUSA_STATE VALUES \"\n",
    "for id, name in list(zip(IDs, Names)):\n",
    "    query += \"('\" + str(id) + \"', '\" + str(name) + \"'),\"\n",
    "query = query[:-1]\n",
    "cursor.execute(query)"
   ]
  },
  {
   "cell_type": "code",
   "execution_count": 47,
   "metadata": {},
   "outputs": [],
   "source": [
    "import hdfs\n",
    "from hdfs import InsecureClient\n",
    "client = InsecureClient('http://sandbox.hortonworks.com:50070', user='hdfs', timeout=1000)"
   ]
  },
  {
   "cell_type": "code",
   "execution_count": null,
   "metadata": {
    "collapsed": true
   },
   "outputs": [],
   "source": [
    "url = 'http://api.datausa.io/api/csv/?show=geo&sumlevel=state&required=avg_wage&year=latest'\n",
    "to_path ='/kcbda/RAW/DATAUSA_AVG/2015.csv'\n",
    "response = http.request('GET', url)\n",
    "client.write(to_path, response.data)"
   ]
  },
  {
   "cell_type": "code",
   "execution_count": 52,
   "metadata": {},
   "outputs": [],
   "source": [
    "url = 'http://api.datausa.io/api/csv/?show=geo&sumlevel=state&required=high_school_graduation&year=latest'\n",
    "to_path ='/kcbda/RAW/DATAUSA_HIGH_SCHOOL/2017.csv'\n",
    "response = http.request('GET', url)\n",
    "client.write(to_path, response.data)"
   ]
  },
  {
   "cell_type": "code",
   "execution_count": null,
   "metadata": {
    "collapsed": true
   },
   "outputs": [],
   "source": []
  }
 ],
 "metadata": {
  "kernelspec": {
   "display_name": "Python 3",
   "language": "python",
   "name": "python3"
  },
  "language_info": {
   "codemirror_mode": {
    "name": "ipython",
    "version": 3
   },
   "file_extension": ".py",
   "mimetype": "text/x-python",
   "name": "python",
   "nbconvert_exporter": "python",
   "pygments_lexer": "ipython3",
   "version": "3.6.3"
  }
 },
 "nbformat": 4,
 "nbformat_minor": 2
}
